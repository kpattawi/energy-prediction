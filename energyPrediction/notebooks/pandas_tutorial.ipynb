{
 "cells": [
  {
   "cell_type": "markdown",
   "metadata": {},
   "source": [
    "# Pandas tutorial (Simplilearn)"
   ]
  },
  {
   "cell_type": "code",
   "execution_count": 1,
   "metadata": {},
   "outputs": [
    {
     "name": "stdout",
     "output_type": "stream",
     "text": [
      "1.0.1\n"
     ]
    }
   ],
   "source": [
    "import pandas as pd\n",
    "print(pd.__version__)"
   ]
  },
  {
   "cell_type": "markdown",
   "metadata": {},
   "source": [
    "## Series create, manipulate, querry, delete"
   ]
  },
  {
   "cell_type": "code",
   "execution_count": 2,
   "metadata": {},
   "outputs": [
    {
     "name": "stdout",
     "output_type": "stream",
     "text": [
      "0    0\n",
      "1    1\n",
      "2    2\n",
      "3    3\n",
      "4    4\n",
      "dtype: int64\n"
     ]
    }
   ],
   "source": [
    "# creating a series from a list\n",
    "arr = [0,1,2,3,4]\n",
    "s1 = pd.Series(arr)\n",
    "print(s1)"
   ]
  },
  {
   "cell_type": "code",
   "execution_count": 3,
   "metadata": {},
   "outputs": [
    {
     "data": {
      "text/plain": [
       "1    0\n",
       "2    1\n",
       "3    2\n",
       "4    3\n",
       "5    4\n",
       "dtype: int64"
      ]
     },
     "execution_count": 3,
     "metadata": {},
     "output_type": "execute_result"
    }
   ],
   "source": [
    "order = [1,2,3,4,5]\n",
    "s2 = pd.Series(arr, index=order)\n",
    "s2"
   ]
  },
  {
   "cell_type": "code",
   "execution_count": 4,
   "metadata": {},
   "outputs": [
    {
     "data": {
      "text/plain": [
       "a    0.918043\n",
       "b    2.635514\n",
       "c   -1.225341\n",
       "d    0.516687\n",
       "e   -1.615751\n",
       "dtype: float64"
      ]
     },
     "execution_count": 4,
     "metadata": {},
     "output_type": "execute_result"
    }
   ],
   "source": [
    "import numpy as np\n",
    "n = np.random.randn(5)\n",
    "index = ['a','b','c','d','e']\n",
    "s3 = pd.Series(n, index=index)\n",
    "s3"
   ]
  },
  {
   "cell_type": "code",
   "execution_count": 5,
   "metadata": {},
   "outputs": [
    {
     "data": {
      "text/plain": [
       "a    1\n",
       "b    2\n",
       "c    3\n",
       "dtype: int64"
      ]
     },
     "execution_count": 5,
     "metadata": {},
     "output_type": "execute_result"
    }
   ],
   "source": [
    "# create series from dictionary\n",
    "d= {'a':1,'b':2, 'c':3}\n",
    "s4 = pd.Series(d)\n",
    "s4"
   ]
  },
  {
   "cell_type": "code",
   "execution_count": 6,
   "metadata": {},
   "outputs": [
    {
     "name": "stdout",
     "output_type": "stream",
     "text": [
      "0    0\n",
      "1    1\n",
      "2    2\n",
      "3    3\n",
      "4    4\n",
      "dtype: int64\n"
     ]
    },
    {
     "data": {
      "text/plain": [
       "A    0\n",
       "B    1\n",
       "C    2\n",
       "D    3\n",
       "E    4\n",
       "dtype: int64"
      ]
     },
     "execution_count": 6,
     "metadata": {},
     "output_type": "execute_result"
    }
   ],
   "source": [
    "print(s1)\n",
    "s1.index = ['A','B','C','D','E']\n",
    "s1"
   ]
  },
  {
   "cell_type": "code",
   "execution_count": 7,
   "metadata": {},
   "outputs": [
    {
     "name": "stdout",
     "output_type": "stream",
     "text": [
      "A    0\n",
      "B    1\n",
      "C    2\n",
      "dtype: int64\n",
      "A    0\n",
      "B    1\n",
      "C    2\n",
      "D    3\n",
      "dtype: int64\n"
     ]
    }
   ],
   "source": [
    "# slicing\n",
    "print(s1[:3])\n",
    "print(s1[:-1])"
   ]
  },
  {
   "cell_type": "code",
   "execution_count": 8,
   "metadata": {},
   "outputs": [
    {
     "data": {
      "text/plain": [
       "A    0.000000\n",
       "B    1.000000\n",
       "C    2.000000\n",
       "D    3.000000\n",
       "E    4.000000\n",
       "a    0.918043\n",
       "b    2.635514\n",
       "c   -1.225341\n",
       "d    0.516687\n",
       "e   -1.615751\n",
       "dtype: float64"
      ]
     },
     "execution_count": 8,
     "metadata": {},
     "output_type": "execute_result"
    }
   ],
   "source": [
    "s4 = s1.append(s3)\n",
    "s4"
   ]
  },
  {
   "cell_type": "code",
   "execution_count": 9,
   "metadata": {},
   "outputs": [],
   "source": [
    "s4.drop('e') # doesnt change s4 unless:\n",
    "s4 = s4.drop('e')"
   ]
  },
  {
   "cell_type": "markdown",
   "metadata": {},
   "source": [
    "## Series Operations"
   ]
  },
  {
   "cell_type": "code",
   "execution_count": 10,
   "metadata": {},
   "outputs": [
    {
     "data": {
      "text/plain": [
       "0     6.0\n",
       "1     8.0\n",
       "2    10.0\n",
       "3    12.0\n",
       "4     9.0\n",
       "5     NaN\n",
       "6     NaN\n",
       "dtype: float64"
      ]
     },
     "execution_count": 10,
     "metadata": {},
     "output_type": "execute_result"
    }
   ],
   "source": [
    "arr1 = [0,1,2,3,4,5,7]\n",
    "arr2 = [6, 7, 8, 9, 5]\n",
    "s5 = pd.Series(arr1)\n",
    "s6 = pd.Series(arr2)\n",
    "s5.add(s6) # or .sub()"
   ]
  },
  {
   "cell_type": "code",
   "execution_count": 11,
   "metadata": {},
   "outputs": [
    {
     "data": {
      "text/plain": [
       "0     0.0\n",
       "1     7.0\n",
       "2    16.0\n",
       "3    27.0\n",
       "4    20.0\n",
       "5     NaN\n",
       "6     NaN\n",
       "dtype: float64"
      ]
     },
     "execution_count": 11,
     "metadata": {},
     "output_type": "execute_result"
    }
   ],
   "source": [
    "s5.mul(s6) # or .div()"
   ]
  },
  {
   "cell_type": "code",
   "execution_count": 12,
   "metadata": {},
   "outputs": [
    {
     "name": "stdout",
     "output_type": "stream",
     "text": [
      "median: 7.0\n",
      "max: 9\n",
      "min: 5\n"
     ]
    }
   ],
   "source": [
    "print('median:',s6.median())\n",
    "print('max:', s6.max())\n",
    "print('min:', s6.min())"
   ]
  },
  {
   "cell_type": "markdown",
   "metadata": {},
   "source": [
    "## Create a dataframe"
   ]
  },
  {
   "cell_type": "code",
   "execution_count": 13,
   "metadata": {},
   "outputs": [
    {
     "name": "stdout",
     "output_type": "stream",
     "text": [
      "                                   A         B         C         D\n",
      "2020-11-14 22:51:14.548627  1.648601 -1.024842 -0.821579 -1.574733\n",
      "2020-11-15 22:51:14.548627 -1.251169 -0.793524  1.299801  0.589748\n",
      "2020-11-16 22:51:14.548627  0.858468  1.306506 -0.658694  0.320788\n",
      "2020-11-17 22:51:14.548627 -0.648375 -0.958996  0.169900  0.190235\n",
      "2020-11-18 22:51:14.548627  0.921829  0.149005 -1.035878  1.186836\n",
      "2020-11-19 22:51:14.548627  0.739852 -0.272577 -2.195933 -1.232070\n"
     ]
    },
    {
     "data": {
      "text/plain": [
       "A    float64\n",
       "B    float64\n",
       "C    float64\n",
       "D    float64\n",
       "dtype: object"
      ]
     },
     "execution_count": 13,
     "metadata": {},
     "output_type": "execute_result"
    }
   ],
   "source": [
    "dates = pd.date_range('today', periods = 6) # Define time sequence as index\n",
    "num_arr = np.random.randn(6,4) # import numpy random array\n",
    "columns = ['A', 'B', 'C', 'D'] # Use the table as the column name\n",
    "\n",
    "df1 = pd.DataFrame(num_arr, index=dates, columns=columns)\n",
    "print(df1)\n",
    "\n",
    "# can do the same with dictionary array\n",
    "# see data types\n",
    "df1.dtypes"
   ]
  },
  {
   "cell_type": "code",
   "execution_count": 14,
   "metadata": {},
   "outputs": [
    {
     "data": {
      "text/html": [
       "<div>\n",
       "<style scoped>\n",
       "    .dataframe tbody tr th:only-of-type {\n",
       "        vertical-align: middle;\n",
       "    }\n",
       "\n",
       "    .dataframe tbody tr th {\n",
       "        vertical-align: top;\n",
       "    }\n",
       "\n",
       "    .dataframe thead th {\n",
       "        text-align: right;\n",
       "    }\n",
       "</style>\n",
       "<table border=\"1\" class=\"dataframe\">\n",
       "  <thead>\n",
       "    <tr style=\"text-align: right;\">\n",
       "      <th></th>\n",
       "      <th>A</th>\n",
       "      <th>B</th>\n",
       "      <th>C</th>\n",
       "      <th>D</th>\n",
       "    </tr>\n",
       "  </thead>\n",
       "  <tbody>\n",
       "    <tr>\n",
       "      <th>2020-11-14 22:51:14.548627</th>\n",
       "      <td>1.648601</td>\n",
       "      <td>-1.024842</td>\n",
       "      <td>-0.821579</td>\n",
       "      <td>-1.574733</td>\n",
       "    </tr>\n",
       "    <tr>\n",
       "      <th>2020-11-15 22:51:14.548627</th>\n",
       "      <td>-1.251169</td>\n",
       "      <td>-0.793524</td>\n",
       "      <td>1.299801</td>\n",
       "      <td>0.589748</td>\n",
       "    </tr>\n",
       "    <tr>\n",
       "      <th>2020-11-16 22:51:14.548627</th>\n",
       "      <td>0.858468</td>\n",
       "      <td>1.306506</td>\n",
       "      <td>-0.658694</td>\n",
       "      <td>0.320788</td>\n",
       "    </tr>\n",
       "  </tbody>\n",
       "</table>\n",
       "</div>"
      ],
      "text/plain": [
       "                                   A         B         C         D\n",
       "2020-11-14 22:51:14.548627  1.648601 -1.024842 -0.821579 -1.574733\n",
       "2020-11-15 22:51:14.548627 -1.251169 -0.793524  1.299801  0.589748\n",
       "2020-11-16 22:51:14.548627  0.858468  1.306506 -0.658694  0.320788"
      ]
     },
     "execution_count": 14,
     "metadata": {},
     "output_type": "execute_result"
    }
   ],
   "source": [
    "df2 = df1.head(3) # default 5 rows also can do tail\n",
    "df2"
   ]
  },
  {
   "cell_type": "code",
   "execution_count": 15,
   "metadata": {},
   "outputs": [
    {
     "name": "stdout",
     "output_type": "stream",
     "text": [
      "DatetimeIndex(['2020-11-14 22:51:14.548627', '2020-11-15 22:51:14.548627',\n",
      "               '2020-11-16 22:51:14.548627', '2020-11-17 22:51:14.548627',\n",
      "               '2020-11-18 22:51:14.548627', '2020-11-19 22:51:14.548627'],\n",
      "              dtype='datetime64[ns]', freq='D')\n",
      "Index(['A', 'B', 'C', 'D'], dtype='object')\n",
      "[[ 1.6486012  -1.02484208 -0.82157853 -1.57473257]\n",
      " [-1.25116942 -0.79352441  1.2998015   0.58974825]\n",
      " [ 0.85846829  1.30650641 -0.65869352  0.32078835]\n",
      " [-0.64837489 -0.95899559  0.16989953  0.19023483]\n",
      " [ 0.92182859  0.14900478 -1.03587824  1.18683596]\n",
      " [ 0.73985185 -0.27257743 -2.19593315 -1.23207032]]\n"
     ]
    }
   ],
   "source": [
    "print(df1.index)\n",
    "print(df1.columns)\n",
    "print(df1.values)"
   ]
  },
  {
   "cell_type": "code",
   "execution_count": 16,
   "metadata": {},
   "outputs": [
    {
     "data": {
      "text/html": [
       "<div>\n",
       "<style scoped>\n",
       "    .dataframe tbody tr th:only-of-type {\n",
       "        vertical-align: middle;\n",
       "    }\n",
       "\n",
       "    .dataframe tbody tr th {\n",
       "        vertical-align: top;\n",
       "    }\n",
       "\n",
       "    .dataframe thead th {\n",
       "        text-align: right;\n",
       "    }\n",
       "</style>\n",
       "<table border=\"1\" class=\"dataframe\">\n",
       "  <thead>\n",
       "    <tr style=\"text-align: right;\">\n",
       "      <th></th>\n",
       "      <th>A</th>\n",
       "      <th>B</th>\n",
       "      <th>C</th>\n",
       "      <th>D</th>\n",
       "    </tr>\n",
       "  </thead>\n",
       "  <tbody>\n",
       "    <tr>\n",
       "      <th>count</th>\n",
       "      <td>6.000000</td>\n",
       "      <td>6.000000</td>\n",
       "      <td>6.000000</td>\n",
       "      <td>6.000000</td>\n",
       "    </tr>\n",
       "    <tr>\n",
       "      <th>mean</th>\n",
       "      <td>0.378201</td>\n",
       "      <td>-0.265738</td>\n",
       "      <td>-0.540397</td>\n",
       "      <td>-0.086533</td>\n",
       "    </tr>\n",
       "    <tr>\n",
       "      <th>std</th>\n",
       "      <td>1.093581</td>\n",
       "      <td>0.892123</td>\n",
       "      <td>1.180696</td>\n",
       "      <td>1.081511</td>\n",
       "    </tr>\n",
       "    <tr>\n",
       "      <th>min</th>\n",
       "      <td>-1.251169</td>\n",
       "      <td>-1.024842</td>\n",
       "      <td>-2.195933</td>\n",
       "      <td>-1.574733</td>\n",
       "    </tr>\n",
       "    <tr>\n",
       "      <th>25%</th>\n",
       "      <td>-0.301318</td>\n",
       "      <td>-0.917628</td>\n",
       "      <td>-0.982303</td>\n",
       "      <td>-0.876494</td>\n",
       "    </tr>\n",
       "    <tr>\n",
       "      <th>50%</th>\n",
       "      <td>0.799160</td>\n",
       "      <td>-0.533051</td>\n",
       "      <td>-0.740136</td>\n",
       "      <td>0.255512</td>\n",
       "    </tr>\n",
       "    <tr>\n",
       "      <th>75%</th>\n",
       "      <td>0.905989</td>\n",
       "      <td>0.043609</td>\n",
       "      <td>-0.037249</td>\n",
       "      <td>0.522508</td>\n",
       "    </tr>\n",
       "    <tr>\n",
       "      <th>max</th>\n",
       "      <td>1.648601</td>\n",
       "      <td>1.306506</td>\n",
       "      <td>1.299801</td>\n",
       "      <td>1.186836</td>\n",
       "    </tr>\n",
       "  </tbody>\n",
       "</table>\n",
       "</div>"
      ],
      "text/plain": [
       "              A         B         C         D\n",
       "count  6.000000  6.000000  6.000000  6.000000\n",
       "mean   0.378201 -0.265738 -0.540397 -0.086533\n",
       "std    1.093581  0.892123  1.180696  1.081511\n",
       "min   -1.251169 -1.024842 -2.195933 -1.574733\n",
       "25%   -0.301318 -0.917628 -0.982303 -0.876494\n",
       "50%    0.799160 -0.533051 -0.740136  0.255512\n",
       "75%    0.905989  0.043609 -0.037249  0.522508\n",
       "max    1.648601  1.306506  1.299801  1.186836"
      ]
     },
     "execution_count": 16,
     "metadata": {},
     "output_type": "execute_result"
    }
   ],
   "source": [
    "df1.describe()"
   ]
  },
  {
   "cell_type": "code",
   "execution_count": 17,
   "metadata": {},
   "outputs": [
    {
     "data": {
      "text/html": [
       "<div>\n",
       "<style scoped>\n",
       "    .dataframe tbody tr th:only-of-type {\n",
       "        vertical-align: middle;\n",
       "    }\n",
       "\n",
       "    .dataframe tbody tr th {\n",
       "        vertical-align: top;\n",
       "    }\n",
       "\n",
       "    .dataframe thead th {\n",
       "        text-align: right;\n",
       "    }\n",
       "</style>\n",
       "<table border=\"1\" class=\"dataframe\">\n",
       "  <thead>\n",
       "    <tr style=\"text-align: right;\">\n",
       "      <th></th>\n",
       "      <th>2020-11-14 22:51:14.548627</th>\n",
       "      <th>2020-11-15 22:51:14.548627</th>\n",
       "      <th>2020-11-16 22:51:14.548627</th>\n",
       "      <th>2020-11-17 22:51:14.548627</th>\n",
       "      <th>2020-11-18 22:51:14.548627</th>\n",
       "      <th>2020-11-19 22:51:14.548627</th>\n",
       "    </tr>\n",
       "  </thead>\n",
       "  <tbody>\n",
       "    <tr>\n",
       "      <th>A</th>\n",
       "      <td>1.648601</td>\n",
       "      <td>-1.251169</td>\n",
       "      <td>0.858468</td>\n",
       "      <td>-0.648375</td>\n",
       "      <td>0.921829</td>\n",
       "      <td>0.739852</td>\n",
       "    </tr>\n",
       "    <tr>\n",
       "      <th>B</th>\n",
       "      <td>-1.024842</td>\n",
       "      <td>-0.793524</td>\n",
       "      <td>1.306506</td>\n",
       "      <td>-0.958996</td>\n",
       "      <td>0.149005</td>\n",
       "      <td>-0.272577</td>\n",
       "    </tr>\n",
       "    <tr>\n",
       "      <th>C</th>\n",
       "      <td>-0.821579</td>\n",
       "      <td>1.299801</td>\n",
       "      <td>-0.658694</td>\n",
       "      <td>0.169900</td>\n",
       "      <td>-1.035878</td>\n",
       "      <td>-2.195933</td>\n",
       "    </tr>\n",
       "    <tr>\n",
       "      <th>D</th>\n",
       "      <td>-1.574733</td>\n",
       "      <td>0.589748</td>\n",
       "      <td>0.320788</td>\n",
       "      <td>0.190235</td>\n",
       "      <td>1.186836</td>\n",
       "      <td>-1.232070</td>\n",
       "    </tr>\n",
       "  </tbody>\n",
       "</table>\n",
       "</div>"
      ],
      "text/plain": [
       "   2020-11-14 22:51:14.548627  2020-11-15 22:51:14.548627  \\\n",
       "A                    1.648601                   -1.251169   \n",
       "B                   -1.024842                   -0.793524   \n",
       "C                   -0.821579                    1.299801   \n",
       "D                   -1.574733                    0.589748   \n",
       "\n",
       "   2020-11-16 22:51:14.548627  2020-11-17 22:51:14.548627  \\\n",
       "A                    0.858468                   -0.648375   \n",
       "B                    1.306506                   -0.958996   \n",
       "C                   -0.658694                    0.169900   \n",
       "D                    0.320788                    0.190235   \n",
       "\n",
       "   2020-11-18 22:51:14.548627  2020-11-19 22:51:14.548627  \n",
       "A                    0.921829                    0.739852  \n",
       "B                    0.149005                   -0.272577  \n",
       "C                   -1.035878                   -2.195933  \n",
       "D                    1.186836                   -1.232070  "
      ]
     },
     "execution_count": 17,
     "metadata": {},
     "output_type": "execute_result"
    }
   ],
   "source": [
    "df1.T"
   ]
  },
  {
   "cell_type": "code",
   "execution_count": 19,
   "metadata": {},
   "outputs": [
    {
     "data": {
      "text/html": [
       "<div>\n",
       "<style scoped>\n",
       "    .dataframe tbody tr th:only-of-type {\n",
       "        vertical-align: middle;\n",
       "    }\n",
       "\n",
       "    .dataframe tbody tr th {\n",
       "        vertical-align: top;\n",
       "    }\n",
       "\n",
       "    .dataframe thead th {\n",
       "        text-align: right;\n",
       "    }\n",
       "</style>\n",
       "<table border=\"1\" class=\"dataframe\">\n",
       "  <thead>\n",
       "    <tr style=\"text-align: right;\">\n",
       "      <th></th>\n",
       "      <th>A</th>\n",
       "      <th>B</th>\n",
       "      <th>C</th>\n",
       "      <th>D</th>\n",
       "    </tr>\n",
       "  </thead>\n",
       "  <tbody>\n",
       "    <tr>\n",
       "      <th>2020-11-15 22:51:14.548627</th>\n",
       "      <td>-1.251169</td>\n",
       "      <td>-0.793524</td>\n",
       "      <td>1.299801</td>\n",
       "      <td>0.589748</td>\n",
       "    </tr>\n",
       "    <tr>\n",
       "      <th>2020-11-17 22:51:14.548627</th>\n",
       "      <td>-0.648375</td>\n",
       "      <td>-0.958996</td>\n",
       "      <td>0.169900</td>\n",
       "      <td>0.190235</td>\n",
       "    </tr>\n",
       "    <tr>\n",
       "      <th>2020-11-19 22:51:14.548627</th>\n",
       "      <td>0.739852</td>\n",
       "      <td>-0.272577</td>\n",
       "      <td>-2.195933</td>\n",
       "      <td>-1.232070</td>\n",
       "    </tr>\n",
       "    <tr>\n",
       "      <th>2020-11-16 22:51:14.548627</th>\n",
       "      <td>0.858468</td>\n",
       "      <td>1.306506</td>\n",
       "      <td>-0.658694</td>\n",
       "      <td>0.320788</td>\n",
       "    </tr>\n",
       "    <tr>\n",
       "      <th>2020-11-18 22:51:14.548627</th>\n",
       "      <td>0.921829</td>\n",
       "      <td>0.149005</td>\n",
       "      <td>-1.035878</td>\n",
       "      <td>1.186836</td>\n",
       "    </tr>\n",
       "    <tr>\n",
       "      <th>2020-11-14 22:51:14.548627</th>\n",
       "      <td>1.648601</td>\n",
       "      <td>-1.024842</td>\n",
       "      <td>-0.821579</td>\n",
       "      <td>-1.574733</td>\n",
       "    </tr>\n",
       "  </tbody>\n",
       "</table>\n",
       "</div>"
      ],
      "text/plain": [
       "                                   A         B         C         D\n",
       "2020-11-15 22:51:14.548627 -1.251169 -0.793524  1.299801  0.589748\n",
       "2020-11-17 22:51:14.548627 -0.648375 -0.958996  0.169900  0.190235\n",
       "2020-11-19 22:51:14.548627  0.739852 -0.272577 -2.195933 -1.232070\n",
       "2020-11-16 22:51:14.548627  0.858468  1.306506 -0.658694  0.320788\n",
       "2020-11-18 22:51:14.548627  0.921829  0.149005 -1.035878  1.186836\n",
       "2020-11-14 22:51:14.548627  1.648601 -1.024842 -0.821579 -1.574733"
      ]
     },
     "execution_count": 19,
     "metadata": {},
     "output_type": "execute_result"
    }
   ],
   "source": [
    "df1.sort_values(by='A')"
   ]
  },
  {
   "cell_type": "code",
   "execution_count": 21,
   "metadata": {},
   "outputs": [
    {
     "data": {
      "text/html": [
       "<div>\n",
       "<style scoped>\n",
       "    .dataframe tbody tr th:only-of-type {\n",
       "        vertical-align: middle;\n",
       "    }\n",
       "\n",
       "    .dataframe tbody tr th {\n",
       "        vertical-align: top;\n",
       "    }\n",
       "\n",
       "    .dataframe thead th {\n",
       "        text-align: right;\n",
       "    }\n",
       "</style>\n",
       "<table border=\"1\" class=\"dataframe\">\n",
       "  <thead>\n",
       "    <tr style=\"text-align: right;\">\n",
       "      <th></th>\n",
       "      <th>A</th>\n",
       "      <th>B</th>\n",
       "      <th>C</th>\n",
       "      <th>D</th>\n",
       "    </tr>\n",
       "  </thead>\n",
       "  <tbody>\n",
       "    <tr>\n",
       "      <th>2020-11-17 22:51:14.548627</th>\n",
       "      <td>-0.648375</td>\n",
       "      <td>-0.958996</td>\n",
       "      <td>0.169900</td>\n",
       "      <td>0.190235</td>\n",
       "    </tr>\n",
       "    <tr>\n",
       "      <th>2020-11-19 22:51:14.548627</th>\n",
       "      <td>0.739852</td>\n",
       "      <td>-0.272577</td>\n",
       "      <td>-2.195933</td>\n",
       "      <td>-1.232070</td>\n",
       "    </tr>\n",
       "  </tbody>\n",
       "</table>\n",
       "</div>"
      ],
      "text/plain": [
       "                                   A         B         C         D\n",
       "2020-11-17 22:51:14.548627 -0.648375 -0.958996  0.169900  0.190235\n",
       "2020-11-19 22:51:14.548627  0.739852 -0.272577 -2.195933 -1.232070"
      ]
     },
     "execution_count": 21,
     "metadata": {},
     "output_type": "execute_result"
    }
   ],
   "source": [
    "# slicing dataframe\n",
    "df1.sort_values(by='A')[1:3]"
   ]
  },
  {
   "cell_type": "code",
   "execution_count": 22,
   "metadata": {},
   "outputs": [
    {
     "data": {
      "text/html": [
       "<div>\n",
       "<style scoped>\n",
       "    .dataframe tbody tr th:only-of-type {\n",
       "        vertical-align: middle;\n",
       "    }\n",
       "\n",
       "    .dataframe tbody tr th {\n",
       "        vertical-align: top;\n",
       "    }\n",
       "\n",
       "    .dataframe thead th {\n",
       "        text-align: right;\n",
       "    }\n",
       "</style>\n",
       "<table border=\"1\" class=\"dataframe\">\n",
       "  <thead>\n",
       "    <tr style=\"text-align: right;\">\n",
       "      <th></th>\n",
       "      <th>A</th>\n",
       "      <th>B</th>\n",
       "    </tr>\n",
       "  </thead>\n",
       "  <tbody>\n",
       "    <tr>\n",
       "      <th>2020-11-14 22:51:14.548627</th>\n",
       "      <td>1.648601</td>\n",
       "      <td>-1.024842</td>\n",
       "    </tr>\n",
       "    <tr>\n",
       "      <th>2020-11-15 22:51:14.548627</th>\n",
       "      <td>-1.251169</td>\n",
       "      <td>-0.793524</td>\n",
       "    </tr>\n",
       "    <tr>\n",
       "      <th>2020-11-16 22:51:14.548627</th>\n",
       "      <td>0.858468</td>\n",
       "      <td>1.306506</td>\n",
       "    </tr>\n",
       "    <tr>\n",
       "      <th>2020-11-17 22:51:14.548627</th>\n",
       "      <td>-0.648375</td>\n",
       "      <td>-0.958996</td>\n",
       "    </tr>\n",
       "    <tr>\n",
       "      <th>2020-11-18 22:51:14.548627</th>\n",
       "      <td>0.921829</td>\n",
       "      <td>0.149005</td>\n",
       "    </tr>\n",
       "    <tr>\n",
       "      <th>2020-11-19 22:51:14.548627</th>\n",
       "      <td>0.739852</td>\n",
       "      <td>-0.272577</td>\n",
       "    </tr>\n",
       "  </tbody>\n",
       "</table>\n",
       "</div>"
      ],
      "text/plain": [
       "                                   A         B\n",
       "2020-11-14 22:51:14.548627  1.648601 -1.024842\n",
       "2020-11-15 22:51:14.548627 -1.251169 -0.793524\n",
       "2020-11-16 22:51:14.548627  0.858468  1.306506\n",
       "2020-11-17 22:51:14.548627 -0.648375 -0.958996\n",
       "2020-11-18 22:51:14.548627  0.921829  0.149005\n",
       "2020-11-19 22:51:14.548627  0.739852 -0.272577"
      ]
     },
     "execution_count": 22,
     "metadata": {},
     "output_type": "execute_result"
    }
   ],
   "source": [
    "# querry\n",
    "df1.iloc[1:3]\n",
    "# or \n",
    "df1[['A','B']]"
   ]
  },
  {
   "cell_type": "code",
   "execution_count": 23,
   "metadata": {},
   "outputs": [
    {
     "data": {
      "text/html": [
       "<div>\n",
       "<style scoped>\n",
       "    .dataframe tbody tr th:only-of-type {\n",
       "        vertical-align: middle;\n",
       "    }\n",
       "\n",
       "    .dataframe tbody tr th {\n",
       "        vertical-align: top;\n",
       "    }\n",
       "\n",
       "    .dataframe thead th {\n",
       "        text-align: right;\n",
       "    }\n",
       "</style>\n",
       "<table border=\"1\" class=\"dataframe\">\n",
       "  <thead>\n",
       "    <tr style=\"text-align: right;\">\n",
       "      <th></th>\n",
       "      <th>A</th>\n",
       "      <th>B</th>\n",
       "      <th>C</th>\n",
       "      <th>D</th>\n",
       "    </tr>\n",
       "  </thead>\n",
       "  <tbody>\n",
       "    <tr>\n",
       "      <th>2020-11-14 22:51:14.548627</th>\n",
       "      <td>False</td>\n",
       "      <td>False</td>\n",
       "      <td>False</td>\n",
       "      <td>False</td>\n",
       "    </tr>\n",
       "    <tr>\n",
       "      <th>2020-11-15 22:51:14.548627</th>\n",
       "      <td>False</td>\n",
       "      <td>False</td>\n",
       "      <td>False</td>\n",
       "      <td>False</td>\n",
       "    </tr>\n",
       "    <tr>\n",
       "      <th>2020-11-16 22:51:14.548627</th>\n",
       "      <td>False</td>\n",
       "      <td>False</td>\n",
       "      <td>False</td>\n",
       "      <td>False</td>\n",
       "    </tr>\n",
       "    <tr>\n",
       "      <th>2020-11-17 22:51:14.548627</th>\n",
       "      <td>False</td>\n",
       "      <td>False</td>\n",
       "      <td>False</td>\n",
       "      <td>False</td>\n",
       "    </tr>\n",
       "    <tr>\n",
       "      <th>2020-11-18 22:51:14.548627</th>\n",
       "      <td>False</td>\n",
       "      <td>False</td>\n",
       "      <td>False</td>\n",
       "      <td>False</td>\n",
       "    </tr>\n",
       "    <tr>\n",
       "      <th>2020-11-19 22:51:14.548627</th>\n",
       "      <td>False</td>\n",
       "      <td>False</td>\n",
       "      <td>False</td>\n",
       "      <td>False</td>\n",
       "    </tr>\n",
       "  </tbody>\n",
       "</table>\n",
       "</div>"
      ],
      "text/plain": [
       "                                A      B      C      D\n",
       "2020-11-14 22:51:14.548627  False  False  False  False\n",
       "2020-11-15 22:51:14.548627  False  False  False  False\n",
       "2020-11-16 22:51:14.548627  False  False  False  False\n",
       "2020-11-17 22:51:14.548627  False  False  False  False\n",
       "2020-11-18 22:51:14.548627  False  False  False  False\n",
       "2020-11-19 22:51:14.548627  False  False  False  False"
      ]
     },
     "execution_count": 23,
     "metadata": {},
     "output_type": "execute_result"
    }
   ],
   "source": [
    "df1.isnull()"
   ]
  },
  {
   "cell_type": "code",
   "execution_count": 25,
   "metadata": {},
   "outputs": [
    {
     "data": {
      "text/html": [
       "<div>\n",
       "<style scoped>\n",
       "    .dataframe tbody tr th:only-of-type {\n",
       "        vertical-align: middle;\n",
       "    }\n",
       "\n",
       "    .dataframe tbody tr th {\n",
       "        vertical-align: top;\n",
       "    }\n",
       "\n",
       "    .dataframe thead th {\n",
       "        text-align: right;\n",
       "    }\n",
       "</style>\n",
       "<table border=\"1\" class=\"dataframe\">\n",
       "  <thead>\n",
       "    <tr style=\"text-align: right;\">\n",
       "      <th></th>\n",
       "      <th>A</th>\n",
       "      <th>B</th>\n",
       "      <th>C</th>\n",
       "      <th>D</th>\n",
       "    </tr>\n",
       "  </thead>\n",
       "  <tbody>\n",
       "    <tr>\n",
       "      <th>2020-11-14 22:51:14.548627</th>\n",
       "      <td>1.648601</td>\n",
       "      <td>-1.024842</td>\n",
       "      <td>-0.821579</td>\n",
       "      <td>-1.574733</td>\n",
       "    </tr>\n",
       "    <tr>\n",
       "      <th>2020-11-15 22:51:14.548627</th>\n",
       "      <td>-1.251169</td>\n",
       "      <td>-0.793524</td>\n",
       "      <td>1.299801</td>\n",
       "      <td>0.589748</td>\n",
       "    </tr>\n",
       "    <tr>\n",
       "      <th>2020-11-16 22:51:14.548627</th>\n",
       "      <td>0.858468</td>\n",
       "      <td>1.306506</td>\n",
       "      <td>-0.658694</td>\n",
       "      <td>0.320788</td>\n",
       "    </tr>\n",
       "    <tr>\n",
       "      <th>2020-11-17 22:51:14.548627</th>\n",
       "      <td>-0.648375</td>\n",
       "      <td>-0.958996</td>\n",
       "      <td>0.169900</td>\n",
       "      <td>0.190235</td>\n",
       "    </tr>\n",
       "    <tr>\n",
       "      <th>2020-11-18 22:51:14.548627</th>\n",
       "      <td>0.921829</td>\n",
       "      <td>0.149005</td>\n",
       "      <td>-1.035878</td>\n",
       "      <td>1.186836</td>\n",
       "    </tr>\n",
       "    <tr>\n",
       "      <th>2020-11-19 22:51:14.548627</th>\n",
       "      <td>0.739852</td>\n",
       "      <td>-0.272577</td>\n",
       "      <td>-2.195933</td>\n",
       "      <td>-1.232070</td>\n",
       "    </tr>\n",
       "    <tr>\n",
       "      <th>age</th>\n",
       "      <td>1.000000</td>\n",
       "      <td>1.000000</td>\n",
       "      <td>1.000000</td>\n",
       "      <td>1.000000</td>\n",
       "    </tr>\n",
       "  </tbody>\n",
       "</table>\n",
       "</div>"
      ],
      "text/plain": [
       "                                   A         B         C         D\n",
       "2020-11-14 22:51:14.548627  1.648601 -1.024842 -0.821579 -1.574733\n",
       "2020-11-15 22:51:14.548627 -1.251169 -0.793524  1.299801  0.589748\n",
       "2020-11-16 22:51:14.548627  0.858468  1.306506 -0.658694  0.320788\n",
       "2020-11-17 22:51:14.548627 -0.648375 -0.958996  0.169900  0.190235\n",
       "2020-11-18 22:51:14.548627  0.921829  0.149005 -1.035878  1.186836\n",
       "2020-11-19 22:51:14.548627  0.739852 -0.272577 -2.195933 -1.232070\n",
       "age                         1.000000  1.000000  1.000000  1.000000"
      ]
     },
     "execution_count": 25,
     "metadata": {},
     "output_type": "execute_result"
    }
   ],
   "source": [
    "df1.loc['age'] = 1 # changes actual dataframe (doesnt create new var)\n",
    "df1"
   ]
  },
  {
   "cell_type": "code",
   "execution_count": 27,
   "metadata": {},
   "outputs": [
    {
     "data": {
      "text/plain": [
       "0       A\n",
       "1       C\n",
       "2       C\n",
       "3     AAA\n",
       "4    BACA\n",
       "5     NaN\n",
       "6     CBA\n",
       "7     COW\n",
       "8     OWL\n",
       "dtype: object"
      ]
     },
     "execution_count": 27,
     "metadata": {},
     "output_type": "execute_result"
    }
   ],
   "source": [
    "string = pd.Series(['A', 'C', 'C', 'Aaa', 'BaCa', np.nan, 'CBA','cow','owl'])\n",
    "string.str.upper()"
   ]
  },
  {
   "cell_type": "markdown",
   "metadata": {},
   "source": [
    "## Operations for DataFrame missing Values"
   ]
  },
  {
   "cell_type": "code",
   "execution_count": 29,
   "metadata": {},
   "outputs": [
    {
     "data": {
      "text/html": [
       "<div>\n",
       "<style scoped>\n",
       "    .dataframe tbody tr th:only-of-type {\n",
       "        vertical-align: middle;\n",
       "    }\n",
       "\n",
       "    .dataframe tbody tr th {\n",
       "        vertical-align: top;\n",
       "    }\n",
       "\n",
       "    .dataframe thead th {\n",
       "        text-align: right;\n",
       "    }\n",
       "</style>\n",
       "<table border=\"1\" class=\"dataframe\">\n",
       "  <thead>\n",
       "    <tr style=\"text-align: right;\">\n",
       "      <th></th>\n",
       "      <th>A</th>\n",
       "      <th>B</th>\n",
       "      <th>C</th>\n",
       "      <th>D</th>\n",
       "    </tr>\n",
       "  </thead>\n",
       "  <tbody>\n",
       "    <tr>\n",
       "      <th>2020-11-14 22:51:14.548627</th>\n",
       "      <td>1.648601</td>\n",
       "      <td>-1.024842</td>\n",
       "      <td>-0.821579</td>\n",
       "      <td>-1.574733</td>\n",
       "    </tr>\n",
       "    <tr>\n",
       "      <th>2020-11-15 22:51:14.548627</th>\n",
       "      <td>-1.251169</td>\n",
       "      <td>-0.793524</td>\n",
       "      <td>1.299801</td>\n",
       "      <td>0.589748</td>\n",
       "    </tr>\n",
       "    <tr>\n",
       "      <th>2020-11-16 22:51:14.548627</th>\n",
       "      <td>0.858468</td>\n",
       "      <td>1.306506</td>\n",
       "      <td>-0.658694</td>\n",
       "      <td>0.320788</td>\n",
       "    </tr>\n",
       "    <tr>\n",
       "      <th>2020-11-17 22:51:14.548627</th>\n",
       "      <td>-0.648375</td>\n",
       "      <td>-0.958996</td>\n",
       "      <td>0.169900</td>\n",
       "      <td>0.190235</td>\n",
       "    </tr>\n",
       "    <tr>\n",
       "      <th>2020-11-18 22:51:14.548627</th>\n",
       "      <td>0.921829</td>\n",
       "      <td>0.149005</td>\n",
       "      <td>-1.035878</td>\n",
       "      <td>1.186836</td>\n",
       "    </tr>\n",
       "    <tr>\n",
       "      <th>2020-11-19 22:51:14.548627</th>\n",
       "      <td>0.739852</td>\n",
       "      <td>-0.272577</td>\n",
       "      <td>-2.195933</td>\n",
       "      <td>-1.232070</td>\n",
       "    </tr>\n",
       "    <tr>\n",
       "      <th>age</th>\n",
       "      <td>1.000000</td>\n",
       "      <td>1.000000</td>\n",
       "      <td>1.000000</td>\n",
       "      <td>1.000000</td>\n",
       "    </tr>\n",
       "  </tbody>\n",
       "</table>\n",
       "</div>"
      ],
      "text/plain": [
       "                                   A         B         C         D\n",
       "2020-11-14 22:51:14.548627  1.648601 -1.024842 -0.821579 -1.574733\n",
       "2020-11-15 22:51:14.548627 -1.251169 -0.793524  1.299801  0.589748\n",
       "2020-11-16 22:51:14.548627  0.858468  1.306506 -0.658694  0.320788\n",
       "2020-11-17 22:51:14.548627 -0.648375 -0.958996  0.169900  0.190235\n",
       "2020-11-18 22:51:14.548627  0.921829  0.149005 -1.035878  1.186836\n",
       "2020-11-19 22:51:14.548627  0.739852 -0.272577 -2.195933 -1.232070\n",
       "age                         1.000000  1.000000  1.000000  1.000000"
      ]
     },
     "execution_count": 29,
     "metadata": {},
     "output_type": "execute_result"
    }
   ],
   "source": [
    "df1.fillna(1)\n",
    "df1.dropna(how='any')"
   ]
  },
  {
   "cell_type": "markdown",
   "metadata": {},
   "source": [
    "## Dataframe file operations"
   ]
  },
  {
   "cell_type": "code",
   "execution_count": 30,
   "metadata": {},
   "outputs": [],
   "source": [
    "df1.to_csv('sample_csv.csv') # goes to the folder that youre in or you can put path"
   ]
  },
  {
   "cell_type": "code",
   "execution_count": 31,
   "metadata": {},
   "outputs": [
    {
     "data": {
      "text/html": [
       "<div>\n",
       "<style scoped>\n",
       "    .dataframe tbody tr th:only-of-type {\n",
       "        vertical-align: middle;\n",
       "    }\n",
       "\n",
       "    .dataframe tbody tr th {\n",
       "        vertical-align: top;\n",
       "    }\n",
       "\n",
       "    .dataframe thead th {\n",
       "        text-align: right;\n",
       "    }\n",
       "</style>\n",
       "<table border=\"1\" class=\"dataframe\">\n",
       "  <thead>\n",
       "    <tr style=\"text-align: right;\">\n",
       "      <th></th>\n",
       "      <th>Unnamed: 0</th>\n",
       "      <th>A</th>\n",
       "      <th>B</th>\n",
       "      <th>C</th>\n",
       "      <th>D</th>\n",
       "    </tr>\n",
       "  </thead>\n",
       "  <tbody>\n",
       "    <tr>\n",
       "      <th>0</th>\n",
       "      <td>2020-11-14 22:51:14.548627</td>\n",
       "      <td>1.648601</td>\n",
       "      <td>-1.024842</td>\n",
       "      <td>-0.821579</td>\n",
       "      <td>-1.574733</td>\n",
       "    </tr>\n",
       "    <tr>\n",
       "      <th>1</th>\n",
       "      <td>2020-11-15 22:51:14.548627</td>\n",
       "      <td>-1.251169</td>\n",
       "      <td>-0.793524</td>\n",
       "      <td>1.299801</td>\n",
       "      <td>0.589748</td>\n",
       "    </tr>\n",
       "    <tr>\n",
       "      <th>2</th>\n",
       "      <td>2020-11-16 22:51:14.548627</td>\n",
       "      <td>0.858468</td>\n",
       "      <td>1.306506</td>\n",
       "      <td>-0.658694</td>\n",
       "      <td>0.320788</td>\n",
       "    </tr>\n",
       "  </tbody>\n",
       "</table>\n",
       "</div>"
      ],
      "text/plain": [
       "                   Unnamed: 0         A         B         C         D\n",
       "0  2020-11-14 22:51:14.548627  1.648601 -1.024842 -0.821579 -1.574733\n",
       "1  2020-11-15 22:51:14.548627 -1.251169 -0.793524  1.299801  0.589748\n",
       "2  2020-11-16 22:51:14.548627  0.858468  1.306506 -0.658694  0.320788"
      ]
     },
     "execution_count": 31,
     "metadata": {},
     "output_type": "execute_result"
    }
   ],
   "source": [
    "df_sample = pd.read_csv('sample_csv.csv')\n",
    "df_sample.head(3)"
   ]
  },
  {
   "cell_type": "code",
   "execution_count": 35,
   "metadata": {},
   "outputs": [],
   "source": [
    "df1.to_excel('sample_excel.xlsx', sheet_name='Sheet1')"
   ]
  },
  {
   "cell_type": "code",
   "execution_count": 36,
   "metadata": {},
   "outputs": [
    {
     "data": {
      "text/html": [
       "<div>\n",
       "<style scoped>\n",
       "    .dataframe tbody tr th:only-of-type {\n",
       "        vertical-align: middle;\n",
       "    }\n",
       "\n",
       "    .dataframe tbody tr th {\n",
       "        vertical-align: top;\n",
       "    }\n",
       "\n",
       "    .dataframe thead th {\n",
       "        text-align: right;\n",
       "    }\n",
       "</style>\n",
       "<table border=\"1\" class=\"dataframe\">\n",
       "  <thead>\n",
       "    <tr style=\"text-align: right;\">\n",
       "      <th></th>\n",
       "      <th>Unnamed: 0</th>\n",
       "      <th>A</th>\n",
       "      <th>B</th>\n",
       "      <th>C</th>\n",
       "      <th>D</th>\n",
       "    </tr>\n",
       "  </thead>\n",
       "  <tbody>\n",
       "    <tr>\n",
       "      <th>0</th>\n",
       "      <td>2020-11-14 22:51:14.549000</td>\n",
       "      <td>1.648601</td>\n",
       "      <td>-1.024842</td>\n",
       "      <td>-0.821579</td>\n",
       "      <td>-1.574733</td>\n",
       "    </tr>\n",
       "    <tr>\n",
       "      <th>1</th>\n",
       "      <td>2020-11-15 22:51:14.549000</td>\n",
       "      <td>-1.251169</td>\n",
       "      <td>-0.793524</td>\n",
       "      <td>1.299801</td>\n",
       "      <td>0.589748</td>\n",
       "    </tr>\n",
       "    <tr>\n",
       "      <th>2</th>\n",
       "      <td>2020-11-16 22:51:14.549000</td>\n",
       "      <td>0.858468</td>\n",
       "      <td>1.306506</td>\n",
       "      <td>-0.658694</td>\n",
       "      <td>0.320788</td>\n",
       "    </tr>\n",
       "    <tr>\n",
       "      <th>3</th>\n",
       "      <td>2020-11-17 22:51:14.549000</td>\n",
       "      <td>-0.648375</td>\n",
       "      <td>-0.958996</td>\n",
       "      <td>0.169900</td>\n",
       "      <td>0.190235</td>\n",
       "    </tr>\n",
       "    <tr>\n",
       "      <th>4</th>\n",
       "      <td>2020-11-18 22:51:14.549000</td>\n",
       "      <td>0.921829</td>\n",
       "      <td>0.149005</td>\n",
       "      <td>-1.035878</td>\n",
       "      <td>1.186836</td>\n",
       "    </tr>\n",
       "    <tr>\n",
       "      <th>5</th>\n",
       "      <td>2020-11-19 22:51:14.549000</td>\n",
       "      <td>0.739852</td>\n",
       "      <td>-0.272577</td>\n",
       "      <td>-2.195933</td>\n",
       "      <td>-1.232070</td>\n",
       "    </tr>\n",
       "    <tr>\n",
       "      <th>6</th>\n",
       "      <td>age</td>\n",
       "      <td>1.000000</td>\n",
       "      <td>1.000000</td>\n",
       "      <td>1.000000</td>\n",
       "      <td>1.000000</td>\n",
       "    </tr>\n",
       "  </tbody>\n",
       "</table>\n",
       "</div>"
      ],
      "text/plain": [
       "                   Unnamed: 0         A         B         C         D\n",
       "0  2020-11-14 22:51:14.549000  1.648601 -1.024842 -0.821579 -1.574733\n",
       "1  2020-11-15 22:51:14.549000 -1.251169 -0.793524  1.299801  0.589748\n",
       "2  2020-11-16 22:51:14.549000  0.858468  1.306506 -0.658694  0.320788\n",
       "3  2020-11-17 22:51:14.549000 -0.648375 -0.958996  0.169900  0.190235\n",
       "4  2020-11-18 22:51:14.549000  0.921829  0.149005 -1.035878  1.186836\n",
       "5  2020-11-19 22:51:14.549000  0.739852 -0.272577 -2.195933 -1.232070\n",
       "6                         age  1.000000  1.000000  1.000000  1.000000"
      ]
     },
     "execution_count": 36,
     "metadata": {},
     "output_type": "execute_result"
    }
   ],
   "source": [
    "df_sample2 = pd.read_excel('sample_excel.xlsx', 'Sheet1', index_col=None, na_values = ['NA'])\n",
    "df_sample2"
   ]
  },
  {
   "cell_type": "markdown",
   "metadata": {},
   "source": [
    "## Visualization in Pandas"
   ]
  },
  {
   "cell_type": "code",
   "execution_count": 39,
   "metadata": {},
   "outputs": [
    {
     "data": {
      "text/plain": [
       "<matplotlib.axes._subplots.AxesSubplot at 0x2319a5e8188>"
      ]
     },
     "execution_count": 39,
     "metadata": {},
     "output_type": "execute_result"
    },
    {
     "data": {
      "image/png": "[encoded data removed]",
      "text/plain": [
       "<Figure size 432x288 with 1 Axes>"
      ]
     },
     "metadata": {
      "needs_background": "light"
     },
     "output_type": "display_data"
    }
   ],
   "source": [
    "# series and dataframe line chart\n",
    "import numpy as np\n",
    "%matplotlib inline\n",
    "\n",
    "ts = pd.Series(np.random.randn(50), index=pd.date_range('today', periods=50))\n",
    "ts = ts.cumsum()\n",
    "ts.plot()"
   ]
  },
  {
   "cell_type": "code",
   "execution_count": 43,
   "metadata": {},
   "outputs": [
    {
     "data": {
      "text/plain": [
       "<matplotlib.axes._subplots.AxesSubplot at 0x2319af0e7c8>"
      ]
     },
     "execution_count": 43,
     "metadata": {},
     "output_type": "execute_result"
    },
    {
     "data": {
      "image/png": "[encoded data removed]",
      "text/plain": [
       "<Figure size 432x288 with 1 Axes>"
      ]
     },
     "metadata": {
      "needs_background": "light"
     },
     "output_type": "display_data"
    }
   ],
   "source": [
    "df = pd.DataFrame(np.random.randn(50,4), index = ts.index, columns = ['A','B','X','Y'])\n",
    "df = df.cumsum()\n",
    "df.plot()"
   ]
  },
  {
   "cell_type": "markdown",
   "metadata": {},
   "source": [
    "## Practice Example) Remove repeated data using pandas"
   ]
  },
  {
   "cell_type": "code",
   "execution_count": 46,
   "metadata": {},
   "outputs": [
    {
     "data": {
      "text/html": [
       "<div>\n",
       "<style scoped>\n",
       "    .dataframe tbody tr th:only-of-type {\n",
       "        vertical-align: middle;\n",
       "    }\n",
       "\n",
       "    .dataframe tbody tr th {\n",
       "        vertical-align: top;\n",
       "    }\n",
       "\n",
       "    .dataframe thead th {\n",
       "        text-align: right;\n",
       "    }\n",
       "</style>\n",
       "<table border=\"1\" class=\"dataframe\">\n",
       "  <thead>\n",
       "    <tr style=\"text-align: right;\">\n",
       "      <th></th>\n",
       "      <th>A</th>\n",
       "    </tr>\n",
       "  </thead>\n",
       "  <tbody>\n",
       "    <tr>\n",
       "      <th>0</th>\n",
       "      <td>1</td>\n",
       "    </tr>\n",
       "    <tr>\n",
       "      <th>1</th>\n",
       "      <td>2</td>\n",
       "    </tr>\n",
       "    <tr>\n",
       "      <th>4</th>\n",
       "      <td>4</td>\n",
       "    </tr>\n",
       "    <tr>\n",
       "      <th>6</th>\n",
       "      <td>5</td>\n",
       "    </tr>\n",
       "    <tr>\n",
       "      <th>8</th>\n",
       "      <td>6</td>\n",
       "    </tr>\n",
       "    <tr>\n",
       "      <th>10</th>\n",
       "      <td>7</td>\n",
       "    </tr>\n",
       "    <tr>\n",
       "      <th>11</th>\n",
       "      <td>8</td>\n",
       "    </tr>\n",
       "  </tbody>\n",
       "</table>\n",
       "</div>"
      ],
      "text/plain": [
       "    A\n",
       "0   1\n",
       "1   2\n",
       "4   4\n",
       "6   5\n",
       "8   6\n",
       "10  7\n",
       "11  8"
      ]
     },
     "execution_count": 46,
     "metadata": {},
     "output_type": "execute_result"
    }
   ],
   "source": [
    "df = pd.DataFrame({'A': [1,2,2,2,4,4,5,5,6,6,7,8,8]})\n",
    "df.loc[ df['A'].shift() != df['A'] ]"
   ]
  },
  {
   "cell_type": "code",
   "execution_count": null,
   "metadata": {},
   "outputs": [],
   "source": []
  }
 ],
 "metadata": {
  "kernelspec": {
   "display_name": "Python 3",
   "language": "python",
   "name": "python3"
  },
  "language_info": {
   "codemirror_mode": {
    "name": "ipython",
    "version": 3
   },
   "file_extension": ".py",
   "mimetype": "text/x-python",
   "name": "python",
   "nbconvert_exporter": "python",
   "pygments_lexer": "ipython3",
   "version": "3.7.6"
  }
 },
 "nbformat": 4,
 "nbformat_minor": 4
}
