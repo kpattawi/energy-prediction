{
 "cells": [
  {
   "cell_type": "markdown",
   "metadata": {},
   "source": [
    "# Numpy Tutorial (Simiplilearn)"
   ]
  },
  {
   "cell_type": "code",
   "execution_count": 1,
   "metadata": {},
   "outputs": [],
   "source": [
    "import numpy as np"
   ]
  },
  {
   "cell_type": "code",
   "execution_count": 3,
   "metadata": {
    "scrolled": true
   },
   "outputs": [
    {
     "data": {
      "text/plain": [
       "array([1, 2, 3])"
      ]
     },
     "execution_count": 3,
     "metadata": {},
     "output_type": "execute_result"
    }
   ],
   "source": [
    "a = np.array([1,2,3])\n",
    "a"
   ]
  },
  {
   "cell_type": "markdown",
   "metadata": {},
   "source": [
    "## Why use numpy?  faster, more convenient, less memory"
   ]
  },
  {
   "cell_type": "code",
   "execution_count": 6,
   "metadata": {},
   "outputs": [],
   "source": [
    "import time\n",
    "import sys"
   ]
  },
  {
   "cell_type": "code",
   "execution_count": 9,
   "metadata": {},
   "outputs": [
    {
     "name": "stdout",
     "output_type": "stream",
     "text": [
      "28000\n"
     ]
    }
   ],
   "source": [
    "b = range(1000)\n",
    "print(sys.getsizeof(5)* len(b))"
   ]
  },
  {
   "cell_type": "code",
   "execution_count": 8,
   "metadata": {},
   "outputs": [
    {
     "name": "stdout",
     "output_type": "stream",
     "text": [
      "4000\n"
     ]
    }
   ],
   "source": [
    "c = np.arange(1000)\n",
    "print(c.size*c.itemsize)"
   ]
  },
  {
   "cell_type": "code",
   "execution_count": 10,
   "metadata": {},
   "outputs": [],
   "source": [
    "size = 10000"
   ]
  },
  {
   "cell_type": "code",
   "execution_count": 11,
   "metadata": {},
   "outputs": [],
   "source": [
    "L1 = range(size)\n",
    "L2 = range(size)\n",
    "A1 = np.arange(size)\n",
    "A2 = np.arange(size)"
   ]
  },
  {
   "cell_type": "code",
   "execution_count": 12,
   "metadata": {},
   "outputs": [
    {
     "name": "stdout",
     "output_type": "stream",
     "text": [
      "python list took: 1.4872550964355469\n"
     ]
    }
   ],
   "source": [
    "start = time.time()\n",
    "result = [(x+y) for x,y in zip(L1,L2)]\n",
    "print(\"python list took:\", (time.time()-start)*1000)"
   ]
  },
  {
   "cell_type": "code",
   "execution_count": 13,
   "metadata": {},
   "outputs": [
    {
     "name": "stdout",
     "output_type": "stream",
     "text": [
      "numpy array took: 0.49591064453125\n"
     ]
    }
   ],
   "source": [
    "start = time.time()\n",
    "result = A1 + A2\n",
    "print(\"numpy array took:\", (time.time()-start)*1000)"
   ]
  },
  {
   "cell_type": "markdown",
   "metadata": {},
   "source": [
    "## Basic Operations"
   ]
  },
  {
   "cell_type": "code",
   "execution_count": 15,
   "metadata": {},
   "outputs": [
    {
     "name": "stdout",
     "output_type": "stream",
     "text": [
      "[[1 2]\n",
      " [3 4]\n",
      " [5 6]]\n",
      "2\n",
      "4\n",
      "(3, 2)\n"
     ]
    }
   ],
   "source": [
    "a = np.array([[1,2], [3,4], [5,6]])\n",
    "print(a)\n",
    "print(a.ndim)\n",
    "print(a.itemsize)\n",
    "print(a.shape)"
   ]
  },
  {
   "cell_type": "code",
   "execution_count": 17,
   "metadata": {},
   "outputs": [
    {
     "name": "stdout",
     "output_type": "stream",
     "text": [
      "[[1. 2.]\n",
      " [3. 4.]\n",
      " [5. 6.]]\n",
      "2\n",
      "8\n",
      "(3, 2)\n"
     ]
    }
   ],
   "source": [
    "a = np.array([[1,2], [3,4], [5,6]], dtype=np.float64)\n",
    "print(a)\n",
    "print(a.ndim)\n",
    "print(a.itemsize)\n",
    "print(a.shape)"
   ]
  },
  {
   "cell_type": "code",
   "execution_count": 19,
   "metadata": {},
   "outputs": [
    {
     "name": "stdout",
     "output_type": "stream",
     "text": [
      "[[1.+0.j 2.+0.j]\n",
      " [3.+0.j 4.+0.j]\n",
      " [5.+0.j 6.+0.j]]\n"
     ]
    }
   ],
   "source": [
    "a = np.array([[1,2], [3,4], [5,6]], dtype=np.complex)\n",
    "print(a)"
   ]
  },
  {
   "cell_type": "code",
   "execution_count": 22,
   "metadata": {},
   "outputs": [
    {
     "name": "stdout",
     "output_type": "stream",
     "text": [
      "[[0. 0. 0. 0.]\n",
      " [0. 0. 0. 0.]\n",
      " [0. 0. 0. 0.]]\n",
      "[[1. 1. 1. 1.]\n",
      " [1. 1. 1. 1.]\n",
      " [1. 1. 1. 1.]]\n"
     ]
    }
   ],
   "source": [
    "print(np.zeros((3,4)))\n",
    "print(np.ones((3,4)))"
   ]
  },
  {
   "cell_type": "code",
   "execution_count": 25,
   "metadata": {},
   "outputs": [
    {
     "data": {
      "text/plain": [
       "array([0, 1, 2, 3, 4])"
      ]
     },
     "execution_count": 25,
     "metadata": {},
     "output_type": "execute_result"
    }
   ],
   "source": [
    "np.arange(5)"
   ]
  },
  {
   "cell_type": "code",
   "execution_count": 27,
   "metadata": {},
   "outputs": [
    {
     "name": "stdout",
     "output_type": "stream",
     "text": [
      "concatenation example: \n",
      "['helloabc' 'hixyz']\n"
     ]
    }
   ],
   "source": [
    "print('concatenation example: ')\n",
    "print(np.char.add(['hello', 'hi'], ['abc','xyz']))"
   ]
  },
  {
   "cell_type": "code",
   "execution_count": 32,
   "metadata": {},
   "outputs": [
    {
     "name": "stdout",
     "output_type": "stream",
     "text": [
      "Hello Hello Hello \n",
      "-------Hello--------\n",
      "Hello world\n",
      "Hello How Are You Doing?\n",
      "['hello' 'world']\n",
      "['python', 'is', 'easy!']\n",
      "['hello', 'how are you']\n"
     ]
    }
   ],
   "source": [
    "print(np.char.multiply('Hello ',3))\n",
    "print(np.char.center('Hello',20, fillchar = '-'))\n",
    "print(np.char.capitalize('hello world'))\n",
    "print(np.char.title('hello how are you doing?'))\n",
    "print(np.char.lower(['Hello', 'WORLD']))\n",
    "print(np.char.split('python is easy!'))\n",
    "print(np.char.splitlines('hello\\nhow are you?'))"
   ]
  },
  {
   "cell_type": "code",
   "execution_count": 36,
   "metadata": {},
   "outputs": [
    {
     "name": "stdout",
     "output_type": "stream",
     "text": [
      "['nin' 'dmin' 'nit']\n",
      "['d:m:y' 'y-m-d']\n",
      "he was a good dancer\n"
     ]
    }
   ],
   "source": [
    "print(np.char.strip(['nina','admin','anita'],'a'))\n",
    "print(np.char.join([':','-'],['dmy','ymd']))\n",
    "print(np.char.replace('he is a good dancer','is','was'))\n"
   ]
  },
  {
   "cell_type": "code",
   "execution_count": 30,
   "metadata": {},
   "outputs": [
    {
     "name": "stdout",
     "output_type": "stream",
     "text": [
      "Hello world\n"
     ]
    }
   ],
   "source": []
  },
  {
   "cell_type": "code",
   "execution_count": null,
   "metadata": {},
   "outputs": [],
   "source": [
    "print"
   ]
  }
 ],
 "metadata": {
  "kernelspec": {
   "display_name": "Python 3",
   "language": "python",
   "name": "python3"
  },
  "language_info": {
   "codemirror_mode": {
    "name": "ipython",
    "version": 3
   },
   "file_extension": ".py",
   "mimetype": "text/x-python",
   "name": "python",
   "nbconvert_exporter": "python",
   "pygments_lexer": "ipython3",
   "version": "3.7.6"
  }
 },
 "nbformat": 4,
 "nbformat_minor": 4
}
